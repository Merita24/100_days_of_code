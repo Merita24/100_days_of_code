{
  "nbformat": 4,
  "nbformat_minor": 0,
  "metadata": {
    "colab": {
      "provenance": [],
      "authorship_tag": "ABX9TyMumhvxGZK7oHfvps5Q7fBe",
      "include_colab_link": true
    },
    "kernelspec": {
      "name": "python3",
      "display_name": "Python 3"
    },
    "language_info": {
      "name": "python"
    }
  },
  "cells": [
    {
      "cell_type": "markdown",
      "metadata": {
        "id": "view-in-github",
        "colab_type": "text"
      },
      "source": [
        "<a href=\"https://colab.research.google.com/github/Merita24/100_days_of_code/blob/main/List_comprehensions_part_2.ipynb\" target=\"_parent\"><img src=\"https://colab.research.google.com/assets/colab-badge.svg\" alt=\"Open In Colab\"/></a>"
      ]
    },
    {
      "cell_type": "code",
      "execution_count": null,
      "metadata": {
        "id": "njdJycCy98Oz"
      },
      "outputs": [],
      "source": [
        "#1 Write a list comprehension that produces a list of numbers from 1 to 20.\n",
        "list_of_num=[i for i in range(1,21)]\n",
        "\n",
        "#2 Using a list comprehension, get only the odd numbers between 1 and 20.\n",
        "odd_num=[i for i in range(1,20) if i%2!=0]\n",
        "\n",
        "#3 Using a list comprehension, generate a list of the squares of numbers from 1 to 10, but only if the number is even)\n",
        "list_of_squares=[i**2 for i in range(1,10) if i%2==0]\n",
        "\n",
        "#4 Create a list of all numbers between 1 and 30 that are divisible by 3.\n",
        "my_list=[i for i in range(1,10) if i%3==0]\n",
        "\n",
        "#5 Use a list comprehension to get the length of each word\n",
        "words = [\"apple\", \"banana\", \"cherry\", \"date\", \"kiwi\"]\n",
        "word_count=[len(word for word in words)]\n",
        "\n",
        "#6 Generate all pairs (x, y) where x is from [1, 2, 3] and y is from [10, 20].\n",
        "pairs=[(x,y) for x in [1,2,3] for y in [10,20]]\n",
        "\n",
        "#7 Create a list of the first letter of each word.\n",
        "my_words=[i[0] for i in words]\n",
        "\n",
        "#8 Given the same words list, create a new list where each word is transformed into UPPERCASE\n",
        "words = [\"apple\", \"banana\", \"cherry\", \"date\", \"kiwi\"]\n",
        "\n",
        "my_words2=[i.upper() for i in words]\n",
        "\n",
        "#9 Use a nested list comprehension to generate coordinate pairs (x, y) where:\n",
        "\n",
        "#x goes from 0 to 2\n",
        "\n",
        "#y goes from 0 to 2\n",
        "\n",
        "coord=[(x,y)for x in range(0,3) for y in range(0,3)]\n",
        "\n",
        "#10 Using nested comprehensions, create a list of products for numbers 1–3 multiplied by numbers 1–3.\n",
        "my_list=[i*j for j in range(1,4) for i in range(1,4)]"
      ]
    }
  ]
}