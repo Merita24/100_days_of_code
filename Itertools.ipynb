{
  "nbformat": 4,
  "nbformat_minor": 0,
  "metadata": {
    "colab": {
      "provenance": [],
      "authorship_tag": "ABX9TyNuhQ/ZJ3yYg0vVkLpFhb3F",
      "include_colab_link": true
    },
    "kernelspec": {
      "name": "python3",
      "display_name": "Python 3"
    },
    "language_info": {
      "name": "python"
    }
  },
  "cells": [
    {
      "cell_type": "markdown",
      "metadata": {
        "id": "view-in-github",
        "colab_type": "text"
      },
      "source": [
        "<a href=\"https://colab.research.google.com/github/Merita24/100_days_of_code/blob/main/Itertools.ipynb\" target=\"_parent\"><img src=\"https://colab.research.google.com/assets/colab-badge.svg\" alt=\"Open In Colab\"/></a>"
      ]
    },
    {
      "cell_type": "code",
      "execution_count": null,
      "metadata": {
        "id": "sNAYjIEIs5YK"
      },
      "outputs": [],
      "source": [
        "#Use itertools.count to generate numbers starting at 10, stepping by 5, and stop when the number exceeds 50. Print the numbers.\n",
        "\n",
        "from itertools import count\n",
        "for i in count(10,5):\n",
        "  if i==50: break\n",
        "  print(i)\n",
        "\n",
        "#Use itertools.product to generate all possible pairs of letters from \"AB\" and numbers from [1, 2, 3]. Print the result as a list.\n",
        "from itertools import product\n",
        "letters=(\"AB\")\n",
        "numbers=[1,2,3]\n",
        "print(list(product(letters,numbers)))\n",
        "\n",
        "#Use itertools.permutations to generate all 2-letter arrangements from the word \"DOG\". Print them out.\n",
        "from itertools import permutations\n",
        "print(list(permutations(\"DOG\")))\n",
        "\n",
        "#Use itertools.islice to get the numbers from 20 to 40 (inclusive) with step 5, from an infinite itertools.count(0, 5) iterator.\n",
        "from itertools import islice,count\n",
        "step=count(0,5)\n",
        "sliced=islice((step,4,9))\n",
        "\n",
        "#first family of itertools\n",
        "#count\n",
        "#1 Use itertools.count to generate the first 10 even numbers, starting from 2. Print them in a list.\n",
        "from itertools import count\n",
        "list_of_num=[]\n",
        "for i in count(2,2):\n",
        "  if len(list_of_num)==10:\n",
        "    break\n",
        "  list_of_num.append(i)\n",
        "print(list_of_num)\n",
        "\n",
        "#OR\n",
        "\n",
        "from itertools import count,islice\n",
        "list_of_num=list(islice(count(2,2),10))\n",
        "\n",
        "#2 Use itertools.count to add indices starting at 1 to each animal (like numbered rows).\n",
        "from itertools import count\n",
        "animals=[\"Antelope\",\"Zebra\",\"Giraffe\",\"Ibex\"]\n",
        "for i, animal in zip(count(1),animals):\n",
        "  print(i, animal)\n",
        "\n",
        "#3 Use itertools.count to generate the first 10 multiples of 7.\n",
        "from itertools import count\n",
        "multiples_of_seven=[]\n",
        "for i in count():\n",
        "  if i%7==0:\n",
        "    multiples_of_seven.append(i)\n",
        "if len(multiples_of_seven)==10:\n",
        "  break\n",
        "print(multiples_of_seven)\n",
        "\n",
        "\n"
      ]
    }
  ]
}