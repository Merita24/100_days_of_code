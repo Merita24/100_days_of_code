{
  "nbformat": 4,
  "nbformat_minor": 0,
  "metadata": {
    "colab": {
      "provenance": [],
      "authorship_tag": "ABX9TyOrPp/tXDOddQnqZdp1JNrF",
      "include_colab_link": true
    },
    "kernelspec": {
      "name": "python3",
      "display_name": "Python 3"
    },
    "language_info": {
      "name": "python"
    }
  },
  "cells": [
    {
      "cell_type": "markdown",
      "metadata": {
        "id": "view-in-github",
        "colab_type": "text"
      },
      "source": [
        "<a href=\"https://colab.research.google.com/github/Merita24/100_days_of_code/blob/main/itertoolspart2.ipynb\" target=\"_parent\"><img src=\"https://colab.research.google.com/assets/colab-badge.svg\" alt=\"Open In Colab\"/></a>"
      ]
    },
    {
      "cell_type": "code",
      "execution_count": null,
      "metadata": {
        "id": "ROfacQrtmOFL"
      },
      "outputs": [],
      "source": [
        "#PERMUTATIONS AND COMBINATIONS\n",
        "\n",
        "\n",
        "#1 Generate all 2-letter permutations from [\"A\", \"B\", \"C\"].\n",
        "from itertools import permutations\n",
        "list(permutations([\"A\",\"B\",\"C\",\"D\"],2))\n",
        "\n",
        "#2 How many different 3-digit PIN codes can be made from digits [1, 2, 3, 4] (no repeats)?\n",
        "from itertools import permutations\n",
        "list(permutations([1,2,3,4],3))\n",
        "#3 Print all possible seatings of 3 friends: [\"Alice\", \"Bob\", \"Charlie\"].\n",
        "from itertools import permutations\n",
        "list(permutations([\"Alice\",\"Bob\",\"Charlie\"],3))\n",
        "\n",
        "#4 Find all orderings of the word \"DOG\".\n",
        "from itertools import permutations\n",
        "list(permutations(\"DOG\",3))\n",
        "\n",
        "#5 How many 4-letter arrangements can be made from [\"A\", \"B\", \"C\", \"D\"]?\n",
        "from itertools import permutations\n",
        "list(permutations([\"A\",\"B\",\"C\",\"D\"],4))\n",
        "\n",
        "\n",
        "#6 Generate all 2-number combos with replacement from [1,2,3].\n",
        "from itertools import combinations,combinations_with_replacement,product\n",
        "print(list(combinations_with_replacement([1,2,3],2)))\n",
        "#7 Print all 3-letter combos (with repetition) from [\"A\", \"B\", \"C\"].\n",
        "print(list(combinations_with_replacement([\"A\",\"B\",\"C\"],3)))\n",
        "\n",
        "#8 Show all possible 2-coin toss outcomes [\"H\", \"T\"].\n",
        "print(list(product([\"H\",\"T\"],repeat=2)))\n",
        "\n",
        "#9 Find all 3-dice roll outcomes from [1,2,3,4,5,6].\n",
        "print(len(list(product([1,2,3,4,5,6],repeat=3))))\n",
        "#10 How many 2-scoop ice cream choices are possible from flavors [\"Vanilla\", \"Chocolate\", \"Strawberry\"]?\n",
        "print(len(list(combinations_with_replacement([\"Vanilla\",\"Chocolate\",\"Strawberry\"]))))\n",
        "\n",
        "#10 From the word \"LEVEL\", generate all unique 2-letter permutations.\n",
        "print(set(permutations(\"LEVEL\",2)))\n",
        "\n",
        "#11 Find all ways to assign 2 players from [\"Messi\", \"Ronaldo\", \"Neymar\"] where order matters.\n",
        "print(list(permutations([\"Messi\",\"Ronaldo\",\"Neymar\"],2)))\n",
        "\n",
        "#12 Create all possible 3-character license plates using letters [\"A\",\"B\"] and numbers [1,2].\n",
        "chars=[\"A\",\"B\",1,2]\n",
        "print(list(product(chars,repeat=3)))\n",
        "\n",
        "#13 Generate all 2-letter combinations from \"MATH\" and count them.\n",
        "print(len(list(combinations(\"MATH\",2))))\n",
        "\n",
        "#14 A lock uses 3 digits (0–9) where digits can repeat. How many possible codes exist?\n",
        "print(len(list(product(range(10),repeat=3))))"
      ]
    }
  ]
}