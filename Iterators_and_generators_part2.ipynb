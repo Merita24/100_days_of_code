{
  "nbformat": 4,
  "nbformat_minor": 0,
  "metadata": {
    "colab": {
      "provenance": [],
      "authorship_tag": "ABX9TyM08SunjhptAdCa9ZhYpOEw",
      "include_colab_link": true
    },
    "kernelspec": {
      "name": "python3",
      "display_name": "Python 3"
    },
    "language_info": {
      "name": "python"
    }
  },
  "cells": [
    {
      "cell_type": "markdown",
      "metadata": {
        "id": "view-in-github",
        "colab_type": "text"
      },
      "source": [
        "<a href=\"https://colab.research.google.com/github/Merita24/100_days_of_code/blob/main/Iterators_and_generators_part2.ipynb\" target=\"_parent\"><img src=\"https://colab.research.google.com/assets/colab-badge.svg\" alt=\"Open In Colab\"/></a>"
      ]
    },
    {
      "cell_type": "code",
      "execution_count": null,
      "metadata": {
        "id": "nk17QQQ9PKZ6"
      },
      "outputs": [],
      "source": [
        "from collections.abc import Iterable\n",
        "list_of_num=[12,13,1,2,3,4,5,6,7,8,9]\n",
        "window_size=3\n",
        "\n",
        "\n",
        "\n",
        "\n",
        "def sliding_window(list_of_num,window_size):\n",
        " for i in range(len(list_of_num)-window_size+1):\n",
        "      window=(i:i+window_size)\n",
        "      yield window\n",
        "\n",
        "def sliding_window_with_iterables(data,k):\n",
        "  if isinstance(data,Iterable):\n",
        "    data=list(data)\n",
        "    for x in range(len(data)-k+1):\n",
        "      window=data[x:x+k]\n",
        "      yield window\n",
        "  else:\n",
        "    raise TypeError(\"Input is not iterable\")\n",
        "\n",
        "def sliding_window_with_step(list_of_num,window_size,step):\n",
        "  for i in range(len(list_of_num)-window_size+1,step):\n",
        "    yield list_of_num[i:i+window_size]\n",
        "\n",
        "\n",
        "def adder(x):\n",
        "  sum=0\n",
        "  for i in x:\n",
        "    sum+=i\n",
        "    return sum\n",
        "\n",
        "\n",
        "def sliding_window_with_sum(list_of_num,window_size):\n",
        "  for i in range(len(list_of_num)-window_size+1):\n",
        "    yield adder(list_of_num[i:i+window_size])\n",
        "\n",
        "#peekable iterators\n",
        "\n",
        "#1\n",
        "class Peekable:\n",
        "  def __init__(self,iterable):\n",
        "    self.iterator=iter(iterable)\n",
        "    self.cache=None\n",
        "    self.has_cache=False\n",
        "\n",
        "\n",
        "  def peek(self):\n",
        "    if not self.has_cache:\n",
        "      try:\n",
        "        self.cache=next(self.iterator)\n",
        "        self.has_cache=True\n",
        "      except stopIteration\n",
        "      return None\n",
        "    return self.cache\n",
        "\n",
        "\n",
        "  def next(self):\n",
        "    if self.has_cache:\n",
        "      result=self.cache\n",
        "      self.cache=None\n",
        "      self.has_cache=False\n",
        "      return result\n",
        "    return next(self.iterator)\n",
        "\n",
        "\n",
        "  def iter(self):\n",
        "    return self\n",
        "\n"
      ]
    }
  ]
}