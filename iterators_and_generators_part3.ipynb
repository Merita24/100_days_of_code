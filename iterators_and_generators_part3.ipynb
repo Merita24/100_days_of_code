{
  "nbformat": 4,
  "nbformat_minor": 0,
  "metadata": {
    "colab": {
      "provenance": [],
      "authorship_tag": "ABX9TyPWmXvvjabDPeJUrVawzLIn",
      "include_colab_link": true
    },
    "kernelspec": {
      "name": "python3",
      "display_name": "Python 3"
    },
    "language_info": {
      "name": "python"
    }
  },
  "cells": [
    {
      "cell_type": "markdown",
      "metadata": {
        "id": "view-in-github",
        "colab_type": "text"
      },
      "source": [
        "<a href=\"https://colab.research.google.com/github/Merita24/100_days_of_code/blob/main/iterators_and_generators_part3.ipynb\" target=\"_parent\"><img src=\"https://colab.research.google.com/assets/colab-badge.svg\" alt=\"Open In Colab\"/></a>"
      ]
    },
    {
      "cell_type": "code",
      "execution_count": null,
      "metadata": {
        "id": "s8S_xyJYPaC0"
      },
      "outputs": [],
      "source": [
        "from itertools import count\n",
        "\n",
        "for i in count():\n",
        "  print(i)\n",
        "  if i==10:\n",
        "    break\n",
        "\n",
        "li=[]\n",
        "for i in count(0,2):\n",
        "  li.append(i)\n",
        "  if len(evens)==5:\n",
        "    break\n",
        "\n",
        "def chunked_iterator(iterable,size):\n",
        "  for i in range(0,len(iterable),size):\n",
        "    yield iterable[i:i+size]\n",
        "\n",
        "tuple1=(1,2,4,5,6,7,23,12,11)\n",
        "for chunk in chunked_iterator(tuple1,3):\n",
        "  print(chunk)\n",
        "\n",
        "\n",
        "from itertools import count,islice\n",
        "\n",
        "def chunked_infinite_iterator(size,num_chunks):\n",
        "  x=count(0)\n",
        "  for _ in range(num_chunks):\n",
        "    chunk=islice(x,size)\n",
        "    yield chunk\n",
        "\n",
        "\n",
        " def inifite_iterator_chunk(size,target):\n",
        "  y=count(0):\n",
        "  while True:\n",
        "    chunk=list(islice(y,size)):\n",
        "    print(chunk)\n",
        "    if target in chunk:\n",
        "      break\n",
        "\n",
        "\n",
        "\n",
        "\n"
      ]
    }
  ]
}