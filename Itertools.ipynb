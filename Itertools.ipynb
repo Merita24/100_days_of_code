{
  "nbformat": 4,
  "nbformat_minor": 0,
  "metadata": {
    "colab": {
      "provenance": [],
      "authorship_tag": "ABX9TyMpI7ZPVgiQRiXsd/o4R0wz",
      "include_colab_link": true
    },
    "kernelspec": {
      "name": "python3",
      "display_name": "Python 3"
    },
    "language_info": {
      "name": "python"
    }
  },
  "cells": [
    {
      "cell_type": "markdown",
      "metadata": {
        "id": "view-in-github",
        "colab_type": "text"
      },
      "source": [
        "<a href=\"https://colab.research.google.com/github/Merita24/100_days_of_code/blob/main/Itertools.ipynb\" target=\"_parent\"><img src=\"https://colab.research.google.com/assets/colab-badge.svg\" alt=\"Open In Colab\"/></a>"
      ]
    },
    {
      "cell_type": "code",
      "execution_count": null,
      "metadata": {
        "id": "sNAYjIEIs5YK"
      },
      "outputs": [],
      "source": [
        "#Use itertools.count to generate numbers starting at 10, stepping by 5, and stop when the number exceeds 50. Print the numbers.\n",
        "\n",
        "from itertools import count\n",
        "for i in count(10,5):\n",
        "  if i==50: break\n",
        "  print(i)\n",
        "\n",
        "#Use itertools.product to generate all possible pairs of letters from \"AB\" and numbers from [1, 2, 3]. Print the result as a list.\n",
        "from itertools import product\n",
        "letters=(\"AB\")\n",
        "numbers=[1,2,3]\n",
        "print(list(product(letters,numbers)))\n",
        "\n",
        "#Use itertools.permutations to generate all 2-letter arrangements from the word \"DOG\". Print them out.\n",
        "from itertools import permutations\n",
        "print(list(permutations(\"DOG\")))\n",
        "\n",
        "#Use itertools.islice to get the numbers from 20 to 40 (inclusive) with step 5, from an infinite itertools.count(0, 5) iterator.\n",
        "from itertools import islice,count\n",
        "step=count(0,5)\n",
        "sliced=islice((step,4,9))"
      ]
    }
  ]
}