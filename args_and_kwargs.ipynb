{
  "nbformat": 4,
  "nbformat_minor": 0,
  "metadata": {
    "colab": {
      "provenance": [],
      "authorship_tag": "ABX9TyP0mDszFN9nZR9l7Ms3I6CE",
      "include_colab_link": true
    },
    "kernelspec": {
      "name": "python3",
      "display_name": "Python 3"
    },
    "language_info": {
      "name": "python"
    }
  },
  "cells": [
    {
      "cell_type": "markdown",
      "metadata": {
        "id": "view-in-github",
        "colab_type": "text"
      },
      "source": [
        "<a href=\"https://colab.research.google.com/github/Merita24/100_days_of_code/blob/main/args_and_kwargs.ipynb\" target=\"_parent\"><img src=\"https://colab.research.google.com/assets/colab-badge.svg\" alt=\"Open In Colab\"/></a>"
      ]
    },
    {
      "cell_type": "code",
      "execution_count": null,
      "metadata": {
        "id": "tWs2xdF9jkCh"
      },
      "outputs": [],
      "source": [
        "#Lets start basic\n",
        "#1 Write a function sum_all(*args) that takes any number of numbers and returns their sum.\n",
        "\n",
        "def sum_of_num(*nums):\n",
        "  result=0\n",
        "  for num in nums:\n",
        "    result=result+num\n",
        "  return result\n",
        "\n",
        "\n",
        "#2 Create a function highest_score(student, *scores) that prints the student’s name and their highest score.\n",
        "\n",
        "def highest_score(student,*scores):\n",
        "  highest=scores[0]\n",
        "  for score in scores:\n",
        "    if score>highest:\n",
        "      highest=score\n",
        "  print(f\"{student}'s highest score is:{highest}\")\n",
        "\n",
        "\n",
        "#3 Make a function student_profile(**kwargs) that prints all the details of a student in key: value format.\n",
        "\n",
        "def student_profile(**kwargs):\n",
        "  for key,value in kwargs.items():\n",
        "    print(f\"{key}:{value}\")\n",
        "\n",
        "#4 Write a function student_record(name, year, *subjects, **details) that:\n",
        "#Prints the student’s name and year.\n",
        "#Prints the subjects as a list.\n",
        "#Prints the details (like age, grade, GPA).\n",
        "\n",
        "def student_record(name,year,*subjects,**details):\n",
        "  print(name)\n",
        "  print(year)\n",
        "  print(list(subjects))\n",
        "\n",
        "  for key,value in details.items():\n",
        "    print(f\"{key}:{value}\")\n",
        "\n",
        "\n",
        "\n"
      ]
    }
  ]
}